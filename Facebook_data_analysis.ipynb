{
 "cells": [
  {
   "cell_type": "code",
   "execution_count": 1,
   "metadata": {},
   "outputs": [
    {
     "name": "stdout",
     "output_type": "stream",
     "text": [
      "Downloading emoji data ...\n",
      "... OK (Got response in 0.19 seconds)\n",
      "Writing emoji data to /Users/tinabaixinn/.demoji/codes.json ...\n",
      "... OK\n"
     ]
    }
   ],
   "source": [
    "import mysql.connector\n",
    "import pandas as pd\n",
    "import re\n",
    "import demoji #To process emojis\n",
    "demoji.download_codes()\n",
    "from mysql.connector import errorcode\n",
    "\n",
    "try:\n",
    "    cnx = mysql.connector.connect(user='root', password='cwzwbx1995',\n",
    "                              host='127.0.0.1',\n",
    "                              database='data')\n",
    "except mysql.connector.Error as err:\n",
    "    if err.errno == errorcode.ER_ACCESS_DENIED_ERROR:\n",
    "        print(\"Something is wrong with your user name or password\")\n",
    "    elif err.errno == errorcode.ER_BAD_DB_ERROR:\n",
    "        print(\"Database does not exist\")\n",
    "    else:\n",
    "        print(err)"
   ]
  },
  {
   "cell_type": "code",
   "execution_count": 2,
   "metadata": {},
   "outputs": [],
   "source": [
    "cursor = cnx.cursor()"
   ]
  },
  {
   "cell_type": "code",
   "execution_count": 3,
   "metadata": {},
   "outputs": [
    {
     "name": "stdout",
     "output_type": "stream",
     "text": [
      "The PostId of the post with the most engagements is 28144\n"
     ]
    }
   ],
   "source": [
    "# 1. The PostId of the post with the most engagements is:\n",
    "    \n",
    "query = (\"SELECT PostId FROM performance_data \"\n",
    "         \"WHERE Engagements = (SELECT MAX(Engagements) FROM performance_data)\")\n",
    "cursor.execute(query)\n",
    "for row in cursor:\n",
    "    for field in row:\n",
    "         print(\"The PostId of the post with the most engagements is {}\".format(field))"
   ]
  },
  {
   "cell_type": "code",
   "execution_count": 4,
   "metadata": {},
   "outputs": [
    {
     "name": "stdout",
     "output_type": "stream",
     "text": [
      "The average engagement rate of multi image posts is 1.10%\n"
     ]
    }
   ],
   "source": [
    "# 2. What is the average engagement rate of multi-image posts? :\n",
    "\n",
    "query = (\"SELECT AVG(EngagementRate) FROM performance_data \"\n",
    "         \"INNER JOIN post_data ON performance_data.PostId = post_data.PostId \"\n",
    "         \"WHERE post_data.Type = 'Multi Image'\")\n",
    "cursor.execute(query)\n",
    "for row in cursor:\n",
    "    for field in row:\n",
    "         print(\"The average engagement rate of multi image posts is {:.2f}%\".format(field * 100))"
   ]
  },
  {
   "cell_type": "code",
   "execution_count": 5,
   "metadata": {},
   "outputs": [
    {
     "name": "stdout",
     "output_type": "stream",
     "text": [
      "Multi Image post type has the highest average reach per post\n"
     ]
    }
   ],
   "source": [
    "# 3. What post type has the highest average reach per post? \n",
    "\n",
    "query = (\"SELECT Type, AVG(Reach) FROM performance_data \"\n",
    "         \"INNER JOIN post_data ON performance_data.PostId = post_data.PostId \"\n",
    "         \"GROUP BY Type \"\n",
    "         \"ORDER BY AVG(Reach) DESC \"\n",
    "         \"LIMIT 1\")\n",
    "cursor.execute(query)\n",
    "for row in cursor:\n",
    "     print(\"{} post type has the highest average reach per post\".format(row[0]))"
   ]
  },
  {
   "cell_type": "code",
   "execution_count": 6,
   "metadata": {},
   "outputs": [
    {
     "name": "stdout",
     "output_type": "stream",
     "text": [
      "The date on which the most posts were published is 2020-01-11\n"
     ]
    }
   ],
   "source": [
    "# 4. On what date were the most posts published?\n",
    "\n",
    "query = (\"SELECT CAST(PublishTime AS DATE), COUNT(post_data.PostId) From post_data \"\n",
    "         \"GROUP BY CAST(PublishTime AS DATE) \"\n",
    "         \"ORDER BY COUNT(post_data.PostId) DESC \"\n",
    "         \"LIMIT 1\")\n",
    "cursor.execute(query)\n",
    "for row in cursor:\n",
    "     print(\"The date on which the most posts were published is {}\".format(row[0]))"
   ]
  },
  {
   "cell_type": "code",
   "execution_count": 7,
   "metadata": {},
   "outputs": [
    {
     "name": "stdout",
     "output_type": "stream",
     "text": [
      "The greatest average number of impressions per post is during 06AM\n"
     ]
    }
   ],
   "source": [
    "# 5. During which hour of the day is the average number of impressions per post greatest?\n",
    "\n",
    "from datetime import datetime \n",
    "from datetime import timedelta \n",
    "query = (\"SELECT date_format(PublishTime,'%h%p') AS hour_interval, \"\n",
    "         \"AVG(performance_data.Impressions) \"\n",
    "         \"FROM post_data \"\n",
    "         \"INNER JOIN performance_data ON post_data.PostId = performance_data.PostId \"\n",
    "         \"GROUP BY hour_interval \"\n",
    "         \"ORDER BY AVG(performance_data.Impressions) DESC \"\n",
    "         \"LIMIT 1\")\n",
    "cursor.execute(query)\n",
    "for row in cursor:\n",
    "     print(\"The greatest average number of impressions per post is during {}\".format(row[0]))"
   ]
  },
  {
   "cell_type": "code",
   "execution_count": 8,
   "metadata": {},
   "outputs": [
    {
     "name": "stdout",
     "output_type": "stream",
     "text": [
      " User who created the most posts is dae201f8-6fed-4054-8f4b-8a1cee435e99\n"
     ]
    }
   ],
   "source": [
    "# 6. What is the UserId of the user who created the most posts? \n",
    "\n",
    "query = (\"SELECT UserId, COUNT(PostId) \"\n",
    "         \"FROM post_data \"\n",
    "         \"GROUP BY UserId \"\n",
    "         \"ORDER BY COUNT(PostId) DESC \" \n",
    "         \"LIMIT 1\")\n",
    "cursor.execute(query)\n",
    "for row in cursor:\n",
    "    print(\" User who created the most posts is \" + row[0] + \" \")"
   ]
  },
  {
   "cell_type": "code",
   "execution_count": 3,
   "metadata": {},
   "outputs": [],
   "source": [
    "# 7. What word appears most frequently in the post messages of posts made on 1/3/20? \n",
    "# Ignore capitalization, punctuation, and emojis.\n",
    "\n",
    "query = (\"SELECT Message, PublishTime FROM post_data \"\n",
    "         \"WHERE PublishTime < '2020-01-04' AND PublishTime > '2020-01-02'\")\n",
    "cursor.execute(query)\n",
    "rows = cursor.fetchall()\n",
    "df = pd.DataFrame(rows)\n",
    "df.columns = ['Message', 'PublishTime']"
   ]
  },
  {
   "cell_type": "code",
   "execution_count": 4,
   "metadata": {},
   "outputs": [],
   "source": [
    "def wordListToFreqDict(wordlist):\n",
    "    wordfreq = [wordlist.count(p) for p in wordlist]\n",
    "    return dict(list(zip(wordlist,wordfreq)))"
   ]
  },
  {
   "cell_type": "code",
   "execution_count": 5,
   "metadata": {},
   "outputs": [],
   "source": [
    "def sortFreqDict(freqdict):\n",
    "    aux = [(freqdict[key], key) for key in freqdict]\n",
    "    aux.sort()\n",
    "    aux.reverse()\n",
    "    return aux"
   ]
  },
  {
   "cell_type": "code",
   "execution_count": 7,
   "metadata": {},
   "outputs": [],
   "source": [
    "wordstring = \"\"\n",
    "for index, row in df.iterrows():\n",
    "    s = re.sub(r'[^\\w\\s]', '', row['Message'].lower()) #regex of punctuation, to remove punctuations\n",
    "    wordstring += demoji.replace(s, '')\n",
    "wordlist = wordstring.split()\n",
    "freqdict = wordListToFreqDict(wordlist)\n",
    "sortedFreqDict = sortFreqDict(freqdict)"
   ]
  },
  {
   "cell_type": "code",
   "execution_count": 8,
   "metadata": {},
   "outputs": [
    {
     "name": "stdout",
     "output_type": "stream",
     "text": [
      "\"to\" appears most frequently in the post messages of posts made on 1/3/20.\n"
     ]
    }
   ],
   "source": [
    "print(\"\\\"{}\\\" appears most frequently in the post messages of posts made on 1/3/20.\".format(sortedFreqDict[0][1]))"
   ]
  },
  {
   "cell_type": "code",
   "execution_count": 14,
   "metadata": {},
   "outputs": [],
   "source": [
    "# 8.What is the median character count of the post messages? \n",
    "# Count each emoji as one character and count spaces as one character.\n",
    "query = (\"SELECT Message FROM post_data\")\n",
    "cursor.execute(query)\n",
    "rows = cursor.fetchall()\n",
    "df8 = pd.DataFrame(rows)\n",
    "df8.columns = ['Message']"
   ]
  },
  {
   "cell_type": "code",
   "execution_count": 15,
   "metadata": {},
   "outputs": [
    {
     "data": {
      "text/html": [
       "<div>\n",
       "<style scoped>\n",
       "    .dataframe tbody tr th:only-of-type {\n",
       "        vertical-align: middle;\n",
       "    }\n",
       "\n",
       "    .dataframe tbody tr th {\n",
       "        vertical-align: top;\n",
       "    }\n",
       "\n",
       "    .dataframe thead th {\n",
       "        text-align: right;\n",
       "    }\n",
       "</style>\n",
       "<table border=\"1\" class=\"dataframe\">\n",
       "  <thead>\n",
       "    <tr style=\"text-align: right;\">\n",
       "      <th></th>\n",
       "      <th>Message</th>\n",
       "      <th>Character Count</th>\n",
       "    </tr>\n",
       "  </thead>\n",
       "  <tbody>\n",
       "    <tr>\n",
       "      <td>0</td>\n",
       "      <td>These are games, what’s not a game is you work...</td>\n",
       "      <td>247</td>\n",
       "    </tr>\n",
       "    <tr>\n",
       "      <td>1</td>\n",
       "      <td>Please have a safe New Year from the Villa Par...</td>\n",
       "      <td>117</td>\n",
       "    </tr>\n",
       "    <tr>\n",
       "      <td>2</td>\n",
       "      <td>🎉Only a few more hours to get your blackeye pe...</td>\n",
       "      <td>86</td>\n",
       "    </tr>\n",
       "    <tr>\n",
       "      <td>3</td>\n",
       "      <td>PARTY ON WAYNE, PARTY ON GARP!At your local Co...</td>\n",
       "      <td>63</td>\n",
       "    </tr>\n",
       "    <tr>\n",
       "      <td>4</td>\n",
       "      <td>Bring in the New Year with a bang at your Hend...</td>\n",
       "      <td>74</td>\n",
       "    </tr>\n",
       "    <tr>\n",
       "      <td>...</td>\n",
       "      <td>...</td>\n",
       "      <td>...</td>\n",
       "    </tr>\n",
       "    <tr>\n",
       "      <td>46849</td>\n",
       "      <td>Come on out to your local Auto Care Center at ...</td>\n",
       "      <td>104</td>\n",
       "    </tr>\n",
       "    <tr>\n",
       "      <td>46850</td>\n",
       "      <td>Looking for quick snacks for Sunday’s game? Yo...</td>\n",
       "      <td>194</td>\n",
       "    </tr>\n",
       "    <tr>\n",
       "      <td>46851</td>\n",
       "      <td>Need help to arrange party this weekend? Let o...</td>\n",
       "      <td>183</td>\n",
       "    </tr>\n",
       "    <tr>\n",
       "      <td>46852</td>\n",
       "      <td>If you can't quote one sitcom completely, do y...</td>\n",
       "      <td>144</td>\n",
       "    </tr>\n",
       "    <tr>\n",
       "      <td>46853</td>\n",
       "      <td>We are having open interviews this Saturday Fe...</td>\n",
       "      <td>127</td>\n",
       "    </tr>\n",
       "  </tbody>\n",
       "</table>\n",
       "<p>46854 rows × 2 columns</p>\n",
       "</div>"
      ],
      "text/plain": [
       "                                                 Message  Character Count\n",
       "0      These are games, what’s not a game is you work...              247\n",
       "1      Please have a safe New Year from the Villa Par...              117\n",
       "2      🎉Only a few more hours to get your blackeye pe...               86\n",
       "3      PARTY ON WAYNE, PARTY ON GARP!At your local Co...               63\n",
       "4      Bring in the New Year with a bang at your Hend...               74\n",
       "...                                                  ...              ...\n",
       "46849  Come on out to your local Auto Care Center at ...              104\n",
       "46850  Looking for quick snacks for Sunday’s game? Yo...              194\n",
       "46851  Need help to arrange party this weekend? Let o...              183\n",
       "46852  If you can't quote one sitcom completely, do y...              144\n",
       "46853  We are having open interviews this Saturday Fe...              127\n",
       "\n",
       "[46854 rows x 2 columns]"
      ]
     },
     "execution_count": 15,
     "metadata": {},
     "output_type": "execute_result"
    }
   ],
   "source": [
    "character_count = []\n",
    "for index, row in df8.iterrows():\n",
    "    s = demoji.replace(row['Message'], ' ')\n",
    "    character_count.append(len(s))\n",
    "df8['Character Count'] = character_count\n",
    "df8"
   ]
  },
  {
   "cell_type": "code",
   "execution_count": 16,
   "metadata": {},
   "outputs": [
    {
     "name": "stdout",
     "output_type": "stream",
     "text": [
      "The median character count of the post messages is 152.0\n"
     ]
    }
   ],
   "source": [
    "print(\"The median character count of the post messages is {}\"\n",
    "      .format(df8['Character Count'].median()))"
   ]
  },
  {
   "cell_type": "code",
   "execution_count": 17,
   "metadata": {},
   "outputs": [],
   "source": [
    "# 9. 95% of posts have a message character count less than \n",
    "# (count each emoji as one character and count spaces as one character)\n",
    "df9 = df8.sort_values(by='Character Count')"
   ]
  },
  {
   "cell_type": "code",
   "execution_count": 18,
   "metadata": {},
   "outputs": [
    {
     "name": "stdout",
     "output_type": "stream",
     "text": [
      "95% of posts have a message character count less than 56\n"
     ]
    }
   ],
   "source": [
    "row_index = int(df9.shape[0] * 0.05)\n",
    "print(\"95% of posts have a message character count less than {}\"\n",
    "     .format(df9.iloc[row_index]['Character Count']))"
   ]
  },
  {
   "cell_type": "code",
   "execution_count": 19,
   "metadata": {},
   "outputs": [
    {
     "data": {
      "text/html": [
       "<div>\n",
       "<style scoped>\n",
       "    .dataframe tbody tr th:only-of-type {\n",
       "        vertical-align: middle;\n",
       "    }\n",
       "\n",
       "    .dataframe tbody tr th {\n",
       "        vertical-align: top;\n",
       "    }\n",
       "\n",
       "    .dataframe thead th {\n",
       "        text-align: right;\n",
       "    }\n",
       "</style>\n",
       "<table border=\"1\" class=\"dataframe\">\n",
       "  <thead>\n",
       "    <tr style=\"text-align: right;\">\n",
       "      <th></th>\n",
       "      <th>PostId</th>\n",
       "      <th>VideoCompletions</th>\n",
       "      <th>VideoViews</th>\n",
       "    </tr>\n",
       "  </thead>\n",
       "  <tbody>\n",
       "    <tr>\n",
       "      <td>0</td>\n",
       "      <td>1</td>\n",
       "      <td>0</td>\n",
       "      <td>0</td>\n",
       "    </tr>\n",
       "    <tr>\n",
       "      <td>1</td>\n",
       "      <td>2</td>\n",
       "      <td>0</td>\n",
       "      <td>0</td>\n",
       "    </tr>\n",
       "    <tr>\n",
       "      <td>2</td>\n",
       "      <td>3</td>\n",
       "      <td>0</td>\n",
       "      <td>0</td>\n",
       "    </tr>\n",
       "    <tr>\n",
       "      <td>3</td>\n",
       "      <td>4</td>\n",
       "      <td>0</td>\n",
       "      <td>0</td>\n",
       "    </tr>\n",
       "    <tr>\n",
       "      <td>4</td>\n",
       "      <td>5</td>\n",
       "      <td>0</td>\n",
       "      <td>0</td>\n",
       "    </tr>\n",
       "    <tr>\n",
       "      <td>...</td>\n",
       "      <td>...</td>\n",
       "      <td>...</td>\n",
       "      <td>...</td>\n",
       "    </tr>\n",
       "    <tr>\n",
       "      <td>46849</td>\n",
       "      <td>47597</td>\n",
       "      <td>0</td>\n",
       "      <td>0</td>\n",
       "    </tr>\n",
       "    <tr>\n",
       "      <td>46850</td>\n",
       "      <td>47598</td>\n",
       "      <td>0</td>\n",
       "      <td>0</td>\n",
       "    </tr>\n",
       "    <tr>\n",
       "      <td>46851</td>\n",
       "      <td>47599</td>\n",
       "      <td>0</td>\n",
       "      <td>0</td>\n",
       "    </tr>\n",
       "    <tr>\n",
       "      <td>46852</td>\n",
       "      <td>47600</td>\n",
       "      <td>0</td>\n",
       "      <td>0</td>\n",
       "    </tr>\n",
       "    <tr>\n",
       "      <td>46853</td>\n",
       "      <td>47601</td>\n",
       "      <td>0</td>\n",
       "      <td>0</td>\n",
       "    </tr>\n",
       "  </tbody>\n",
       "</table>\n",
       "<p>46854 rows × 3 columns</p>\n",
       "</div>"
      ],
      "text/plain": [
       "       PostId  VideoCompletions  VideoViews\n",
       "0           1                 0           0\n",
       "1           2                 0           0\n",
       "2           3                 0           0\n",
       "3           4                 0           0\n",
       "4           5                 0           0\n",
       "...       ...               ...         ...\n",
       "46849   47597                 0           0\n",
       "46850   47598                 0           0\n",
       "46851   47599                 0           0\n",
       "46852   47600                 0           0\n",
       "46853   47601                 0           0\n",
       "\n",
       "[46854 rows x 3 columns]"
      ]
     },
     "execution_count": 19,
     "metadata": {},
     "output_type": "execute_result"
    }
   ],
   "source": [
    "# 10. What percentage of video posts have a video completion rate equal to 100% \n",
    "# (VideoCompletionRate = VideoCompletions / VideoViews)?\n",
    "query = (\"SELECT PostId, VideoCompletions, VideoViews FROM performance_data\")\n",
    "cursor.execute(query)\n",
    "rows = cursor.fetchall()\n",
    "df10 = pd.DataFrame(rows)\n",
    "df10.columns = ['PostId', 'VideoCompletions', 'VideoViews']\n",
    "df10"
   ]
  },
  {
   "cell_type": "code",
   "execution_count": 20,
   "metadata": {},
   "outputs": [
    {
     "name": "stdout",
     "output_type": "stream",
     "text": [
      "0.04% of video posts have a video completion rate equal to 100%\n"
     ]
    }
   ],
   "source": [
    "row_number_completion = df10[df10['VideoCompletions'] == df10['VideoViews']].loc[df10['VideoViews'] > 0].shape[0]\n",
    "percentage = row_number_completion/df10.shape[0] * 100\n",
    "print(\"{:.2f}% of video posts have a video completion rate equal to 100%\".format(percentage))"
   ]
  }
 ],
 "metadata": {
  "kernelspec": {
   "display_name": "Python 3",
   "language": "python",
   "name": "python3"
  },
  "language_info": {
   "codemirror_mode": {
    "name": "ipython",
    "version": 3
   },
   "file_extension": ".py",
   "mimetype": "text/x-python",
   "name": "python",
   "nbconvert_exporter": "python",
   "pygments_lexer": "ipython3",
   "version": "3.7.4"
  }
 },
 "nbformat": 4,
 "nbformat_minor": 2
}
